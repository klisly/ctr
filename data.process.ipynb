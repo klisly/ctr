{
 "cells": [
  {
   "cell_type": "code",
   "execution_count": 2,
   "metadata": {},
   "outputs": [],
   "source": [
    "import numpy as np\n",
    "import pandas as pd\n",
    "from tensorflow.keras.layers import *\n",
    "import tensorflow.keras.backend as K\n",
    "import tensorflow as tf\n",
    "import matplotlib.pyplot as plt\n",
    "import seaborn as sbn\n",
    "%matplotlib inline"
   ]
  },
  {
   "cell_type": "code",
   "execution_count": 3,
   "metadata": {},
   "outputs": [],
   "source": [
    "gpus = tf.config.list_physical_devices('GPU')\n",
    "for gpu in gpus:\n",
    "    tf.config.experimental.set_memory_growth(gpu, True)"
   ]
  },
  {
   "cell_type": "code",
   "execution_count": 79,
   "metadata": {},
   "outputs": [],
   "source": [
    "data = pd.read_csv(\"/home/recsys/dataset/train_csv/2020-05-06-00/train/part-00000-608bc593-d570-4042-a4f7-08772a7ce0be-c000.csv\")"
   ]
  },
  {
   "cell_type": "code",
   "execution_count": 81,
   "metadata": {},
   "outputs": [
    {
     "data": {
      "text/html": [
       "<div>\n",
       "<style scoped>\n",
       "    .dataframe tbody tr th:only-of-type {\n",
       "        vertical-align: middle;\n",
       "    }\n",
       "\n",
       "    .dataframe tbody tr th {\n",
       "        vertical-align: top;\n",
       "    }\n",
       "\n",
       "    .dataframe thead th {\n",
       "        text-align: right;\n",
       "    }\n",
       "</style>\n",
       "<table border=\"1\" class=\"dataframe\">\n",
       "  <thead>\n",
       "    <tr style=\"text-align: right;\">\n",
       "      <th></th>\n",
       "      <th>0d41f79cba32a5ec4362596540226fea1ee6b374</th>\n",
       "      <th>1588695721000</th>\n",
       "      <th>0</th>\n",
       "      <th>15146432668795494</th>\n",
       "      <th>zh</th>\n",
       "      <th>cn</th>\n",
       "      <th>dfzx</th>\n",
       "      <th>36.189.230.152</th>\n",
       "      <th>all</th>\n",
       "      <th>list</th>\n",
       "      <th>...</th>\n",
       "      <th>0.3</th>\n",
       "      <th>0.4</th>\n",
       "      <th>4</th>\n",
       "      <th>48</th>\n",
       "      <th>12,11,6</th>\n",
       "      <th>0.38731022674426124</th>\n",
       "      <th>0.07618922551472425</th>\n",
       "      <th>健康.1</th>\n",
       "      <th>1.0</th>\n",
       "      <th>0.07610270888098117</th>\n",
       "    </tr>\n",
       "  </thead>\n",
       "  <tbody>\n",
       "    <tr>\n",
       "      <th>0</th>\n",
       "      <td>6203b617aaed707de770076ce1c5ab6ed88899c2</td>\n",
       "      <td>1588695734000</td>\n",
       "      <td>0</td>\n",
       "      <td>15143735143232983</td>\n",
       "      <td>zh</td>\n",
       "      <td>cn</td>\n",
       "      <td>dfzx</td>\n",
       "      <td>220.166.45.39</td>\n",
       "      <td>all</td>\n",
       "      <td>list</td>\n",
       "      <td>...</td>\n",
       "      <td>0</td>\n",
       "      <td>0</td>\n",
       "      <td>0</td>\n",
       "      <td>48</td>\n",
       "      <td>20,17,12,3,1</td>\n",
       "      <td>0.366875</td>\n",
       "      <td>0.141336</td>\n",
       "      <td>抗日解放战争,日军,历史</td>\n",
       "      <td>1.0,1.0,1.0</td>\n",
       "      <td>0.20690942408904975,0.22276387136986134,0.1413...</td>\n",
       "    </tr>\n",
       "    <tr>\n",
       "      <th>1</th>\n",
       "      <td>33efd103694b5d64649669d690ac1a085888294a</td>\n",
       "      <td>1588697531000</td>\n",
       "      <td>0</td>\n",
       "      <td>15151121951526806</td>\n",
       "      <td>zh</td>\n",
       "      <td>cn</td>\n",
       "      <td>dfzx</td>\n",
       "      <td>183.186.34.62</td>\n",
       "      <td>all</td>\n",
       "      <td>list</td>\n",
       "      <td>...</td>\n",
       "      <td>0</td>\n",
       "      <td>0</td>\n",
       "      <td>0</td>\n",
       "      <td>48</td>\n",
       "      <td>18</td>\n",
       "      <td>0.955740</td>\n",
       "      <td>0.001677</td>\n",
       "      <td>垃圾分类六大问题,国内</td>\n",
       "      <td>1.0</td>\n",
       "      <td>0.0</td>\n",
       "    </tr>\n",
       "    <tr>\n",
       "      <th>2</th>\n",
       "      <td>7f006c17affd6411a978201bd5c5a59399ddc96a</td>\n",
       "      <td>1588696575000</td>\n",
       "      <td>1</td>\n",
       "      <td>15132194118108735</td>\n",
       "      <td>zh</td>\n",
       "      <td>cn</td>\n",
       "      <td>dfzx</td>\n",
       "      <td>124.23.133.109</td>\n",
       "      <td>all</td>\n",
       "      <td>list</td>\n",
       "      <td>...</td>\n",
       "      <td>0</td>\n",
       "      <td>0</td>\n",
       "      <td>0</td>\n",
       "      <td>48</td>\n",
       "      <td>3</td>\n",
       "      <td>0.084070</td>\n",
       "      <td>0.070709</td>\n",
       "      <td>春晚,娱乐</td>\n",
       "      <td>1.0,1.0</td>\n",
       "      <td>0.08244826635650455,0.07075970818415672</td>\n",
       "    </tr>\n",
       "    <tr>\n",
       "      <th>3</th>\n",
       "      <td>7f006c17affd6411a978201bd5c5a59399ddc96a</td>\n",
       "      <td>1588696714000</td>\n",
       "      <td>0</td>\n",
       "      <td>15132194118108735</td>\n",
       "      <td>zh</td>\n",
       "      <td>cn</td>\n",
       "      <td>dfzx</td>\n",
       "      <td>124.23.133.109</td>\n",
       "      <td>all</td>\n",
       "      <td>list</td>\n",
       "      <td>...</td>\n",
       "      <td>0</td>\n",
       "      <td>0</td>\n",
       "      <td>0</td>\n",
       "      <td>48</td>\n",
       "      <td>3</td>\n",
       "      <td>0.072256</td>\n",
       "      <td>0.041787</td>\n",
       "      <td>春晚,娱乐</td>\n",
       "      <td>1.0,1.0</td>\n",
       "      <td>0.03871084765726776,0.04184489514221828</td>\n",
       "    </tr>\n",
       "    <tr>\n",
       "      <th>4</th>\n",
       "      <td>9f272590f01634c9c46b33d354c8150aff315287</td>\n",
       "      <td>1588695745000</td>\n",
       "      <td>0</td>\n",
       "      <td>15154982779248679</td>\n",
       "      <td>zh</td>\n",
       "      <td>cn</td>\n",
       "      <td>dfzx</td>\n",
       "      <td>171.39.1.153</td>\n",
       "      <td>all</td>\n",
       "      <td>list</td>\n",
       "      <td>...</td>\n",
       "      <td>0</td>\n",
       "      <td>0</td>\n",
       "      <td>4</td>\n",
       "      <td>48</td>\n",
       "      <td>13</td>\n",
       "      <td>0.860488</td>\n",
       "      <td>NaN</td>\n",
       "      <td>日本,娱乐</td>\n",
       "      <td>1.0,1.0</td>\n",
       "      <td>0.0</td>\n",
       "    </tr>\n",
       "  </tbody>\n",
       "</table>\n",
       "<p>5 rows × 46 columns</p>\n",
       "</div>"
      ],
      "text/plain": [
       "   0d41f79cba32a5ec4362596540226fea1ee6b374  1588695721000  0  \\\n",
       "0  6203b617aaed707de770076ce1c5ab6ed88899c2  1588695734000  0   \n",
       "1  33efd103694b5d64649669d690ac1a085888294a  1588697531000  0   \n",
       "2  7f006c17affd6411a978201bd5c5a59399ddc96a  1588696575000  1   \n",
       "3  7f006c17affd6411a978201bd5c5a59399ddc96a  1588696714000  0   \n",
       "4  9f272590f01634c9c46b33d354c8150aff315287  1588695745000  0   \n",
       "\n",
       "   15146432668795494  zh  cn  dfzx  36.189.230.152  all  list  ...  0.3  0.4  \\\n",
       "0  15143735143232983  zh  cn  dfzx   220.166.45.39  all  list  ...    0    0   \n",
       "1  15151121951526806  zh  cn  dfzx   183.186.34.62  all  list  ...    0    0   \n",
       "2  15132194118108735  zh  cn  dfzx  124.23.133.109  all  list  ...    0    0   \n",
       "3  15132194118108735  zh  cn  dfzx  124.23.133.109  all  list  ...    0    0   \n",
       "4  15154982779248679  zh  cn  dfzx    171.39.1.153  all  list  ...    0    0   \n",
       "\n",
       "   4  48       12,11,6 0.38731022674426124 0.07618922551472425          健康.1  \\\n",
       "0  0  48  20,17,12,3,1            0.366875            0.141336  抗日解放战争,日军,历史   \n",
       "1  0  48            18            0.955740            0.001677   垃圾分类六大问题,国内   \n",
       "2  0  48             3            0.084070            0.070709         春晚,娱乐   \n",
       "3  0  48             3            0.072256            0.041787         春晚,娱乐   \n",
       "4  4  48            13            0.860488                 NaN         日本,娱乐   \n",
       "\n",
       "           1.0                                0.07610270888098117  \n",
       "0  1.0,1.0,1.0  0.20690942408904975,0.22276387136986134,0.1413...  \n",
       "1          1.0                                                0.0  \n",
       "2      1.0,1.0            0.08244826635650455,0.07075970818415672  \n",
       "3      1.0,1.0            0.03871084765726776,0.04184489514221828  \n",
       "4      1.0,1.0                                                0.0  \n",
       "\n",
       "[5 rows x 46 columns]"
      ]
     },
     "execution_count": 81,
     "metadata": {},
     "output_type": "execute_result"
    }
   ],
   "source": [
    "data.head()"
   ]
  },
  {
   "cell_type": "code",
   "execution_count": 5,
   "metadata": {},
   "outputs": [
    {
     "data": {
      "text/plain": [
       "request_id               object\n",
       "report_time              object\n",
       "action                   object\n",
       "uid                      object\n",
       "t_language               object\n",
       "t_country                object\n",
       "t_pid                    object\n",
       "t_ip                     object\n",
       "t_channel                object\n",
       "t_scene                  object\n",
       "t_ctype                  object\n",
       "t_action                 object\n",
       "t_l_country              object\n",
       "t_l_province             object\n",
       "t_l_city                 object\n",
       "u_umi                    object\n",
       "u_uli                    object\n",
       "u_usi                    object\n",
       "u_uvi                    object\n",
       "u_level                  object\n",
       "ct_count                 object\n",
       "page_pt                  object\n",
       "data_source              object\n",
       "item_id                  object\n",
       "cp_doc_type              object\n",
       "cp_l1_category           object\n",
       "cp_interests             object\n",
       "cp_location              object\n",
       "cp_publisher             object\n",
       "cp_publish_time          object\n",
       "cp_list_image_count      object\n",
       "cp_image_count           object\n",
       "cp_word_count            object\n",
       "cp_clickbait_type        object\n",
       "cp_vulgar_type           object\n",
       "cp_product_type          object\n",
       "cp_newsy_score           object\n",
       "cp_is_local              object\n",
       "cp_is_local_publisher    object\n",
       "cp_media_level           object\n",
       "cp_life_hour             object\n",
       "rs_channel               object\n",
       "rs_p1_score              object\n",
       "rs_gactr                 object\n",
       "rs_taginfo               object\n",
       "dtype: object"
      ]
     },
     "execution_count": 5,
     "metadata": {},
     "output_type": "execute_result"
    }
   ],
   "source": [
    "data.dtypes"
   ]
  },
  {
   "cell_type": "code",
   "execution_count": 6,
   "metadata": {},
   "outputs": [],
   "source": [
    "choose_columns = ['report_time', 'uid', 'action', 't_channel', 't_scene',\n",
    "                  't_action', 't_l_country', 't_l_province', 't_l_city', 'u_uli', 'u_umi',\n",
    "                  'u_level', 'item_id', 'cp_l1_category', 'cp_interests', 'cp_location', 'cp_publisher',\n",
    "                  'cp_publish_time', 'cp_media_level', 'cp_life_hour', 'rs_channel', 'rs_gactr', 'rs_taginfo'\n",
    "                 ]"
   ]
  },
  {
   "cell_type": "code",
   "execution_count": 7,
   "metadata": {},
   "outputs": [],
   "source": [
    "choose_data = data.loc[data['t_scene'] == 'list'][choose_columns]"
   ]
  },
  {
   "cell_type": "code",
   "execution_count": 8,
   "metadata": {},
   "outputs": [],
   "source": [
    "choose_data.reset_index(drop=True, inplace=True)"
   ]
  },
  {
   "cell_type": "code",
   "execution_count": 9,
   "metadata": {},
   "outputs": [
    {
     "data": {
      "text/plain": [
       "'0b100000100000100000'"
      ]
     },
     "execution_count": 9,
     "metadata": {},
     "output_type": "execute_result"
    }
   ],
   "source": [
    "bin(int(133152.0))"
   ]
  },
  {
   "cell_type": "code",
   "execution_count": 10,
   "metadata": {},
   "outputs": [
    {
     "data": {
      "text/html": [
       "<div>\n",
       "<style scoped>\n",
       "    .dataframe tbody tr th:only-of-type {\n",
       "        vertical-align: middle;\n",
       "    }\n",
       "\n",
       "    .dataframe tbody tr th {\n",
       "        vertical-align: top;\n",
       "    }\n",
       "\n",
       "    .dataframe thead th {\n",
       "        text-align: right;\n",
       "    }\n",
       "</style>\n",
       "<table border=\"1\" class=\"dataframe\">\n",
       "  <thead>\n",
       "    <tr style=\"text-align: right;\">\n",
       "      <th></th>\n",
       "      <th>report_time</th>\n",
       "      <th>uid</th>\n",
       "      <th>action</th>\n",
       "      <th>t_channel</th>\n",
       "      <th>t_scene</th>\n",
       "      <th>t_action</th>\n",
       "      <th>t_l_country</th>\n",
       "      <th>t_l_province</th>\n",
       "      <th>t_l_city</th>\n",
       "      <th>u_uli</th>\n",
       "      <th>...</th>\n",
       "      <th>cp_l1_category</th>\n",
       "      <th>cp_interests</th>\n",
       "      <th>cp_location</th>\n",
       "      <th>cp_publisher</th>\n",
       "      <th>cp_publish_time</th>\n",
       "      <th>cp_media_level</th>\n",
       "      <th>cp_life_hour</th>\n",
       "      <th>rs_channel</th>\n",
       "      <th>rs_gactr</th>\n",
       "      <th>rs_taginfo</th>\n",
       "    </tr>\n",
       "  </thead>\n",
       "  <tbody>\n",
       "    <tr>\n",
       "      <th>0</th>\n",
       "      <td>1588285267000</td>\n",
       "      <td>15204077775533240</td>\n",
       "      <td>6</td>\n",
       "      <td>all</td>\n",
       "      <td>list</td>\n",
       "      <td>1</td>\n",
       "      <td>中国</td>\n",
       "      <td>湖北省</td>\n",
       "      <td>咸宁市</td>\n",
       "      <td>:蒋鼎文:0.0016957074;:刘国梁:0.7737707;:陈静:0.0330095...</td>\n",
       "      <td>...</td>\n",
       "      <td>体育:1.0</td>\n",
       "      <td>球迷:1.0;运动员:1.0</td>\n",
       "      <td>NaN</td>\n",
       "      <td>羽毛球爱好者</td>\n",
       "      <td>1.58826e+12</td>\n",
       "      <td>0</td>\n",
       "      <td>36</td>\n",
       "      <td>4096</td>\n",
       "      <td>NaN</td>\n",
       "      <td>1:运动员:1.0:0.0;1:球迷:1.0:0.0;2:体育:1.0:</td>\n",
       "    </tr>\n",
       "    <tr>\n",
       "      <th>1</th>\n",
       "      <td>1588285268000</td>\n",
       "      <td>15204077775533240</td>\n",
       "      <td>6</td>\n",
       "      <td>all</td>\n",
       "      <td>list</td>\n",
       "      <td>1</td>\n",
       "      <td>中国</td>\n",
       "      <td>湖北省</td>\n",
       "      <td>咸宁市</td>\n",
       "      <td>:蒋鼎文:0.0016957074;:刘国梁:0.7737707;:陈静:0.0330095...</td>\n",
       "      <td>...</td>\n",
       "      <td>健康:1.0</td>\n",
       "      <td>红酒:1.0;火龙果:1.0;猕猴桃:1.0;山楂:1.0;饮食:1.0</td>\n",
       "      <td>NaN</td>\n",
       "      <td>健康一言堂</td>\n",
       "      <td>1.58814e+12</td>\n",
       "      <td>0</td>\n",
       "      <td>92</td>\n",
       "      <td>524288</td>\n",
       "      <td>0.0718714</td>\n",
       "      <td>2:健康:1.0:0.071748359555482</td>\n",
       "    </tr>\n",
       "    <tr>\n",
       "      <th>2</th>\n",
       "      <td>1588285269000</td>\n",
       "      <td>15204077775533240</td>\n",
       "      <td>6</td>\n",
       "      <td>all</td>\n",
       "      <td>list</td>\n",
       "      <td>1</td>\n",
       "      <td>中国</td>\n",
       "      <td>湖北省</td>\n",
       "      <td>咸宁市</td>\n",
       "      <td>:蒋鼎文:0.0016957074;:刘国梁:0.7737707;:陈静:0.0330095...</td>\n",
       "      <td>...</td>\n",
       "      <td>健康:1.0</td>\n",
       "      <td>心脑血管:1.0;鸡蛋:1.0;高血压:1.0;胆固醇:1.0;血压:1.0;高胆固醇:1.0</td>\n",
       "      <td>NaN</td>\n",
       "      <td>一起来侃健康</td>\n",
       "      <td>1.5882e+12</td>\n",
       "      <td>0</td>\n",
       "      <td>384</td>\n",
       "      <td>4</td>\n",
       "      <td>0.0940531</td>\n",
       "      <td>1:高血压:1.0:0.1347411723899103;1:心脑血管:1.0:0.1204...</td>\n",
       "    </tr>\n",
       "    <tr>\n",
       "      <th>3</th>\n",
       "      <td>1588285271000</td>\n",
       "      <td>15204077775533240</td>\n",
       "      <td>6</td>\n",
       "      <td>all</td>\n",
       "      <td>list</td>\n",
       "      <td>1</td>\n",
       "      <td>中国</td>\n",
       "      <td>湖北省</td>\n",
       "      <td>咸宁市</td>\n",
       "      <td>:蒋鼎文:0.0016957074;:刘国梁:0.7737707;:陈静:0.0330095...</td>\n",
       "      <td>...</td>\n",
       "      <td>健康:1.0</td>\n",
       "      <td>心脑血管:1.0;高血压:1.0;香蕉:1.0</td>\n",
       "      <td>NaN</td>\n",
       "      <td>北青网</td>\n",
       "      <td>1.58804e+12</td>\n",
       "      <td>3</td>\n",
       "      <td>72</td>\n",
       "      <td>4</td>\n",
       "      <td>0.023838</td>\n",
       "      <td>1:高血压:1.0:0.04373069350774798;1:心脑血管:1.0:0.039...</td>\n",
       "    </tr>\n",
       "    <tr>\n",
       "      <th>4</th>\n",
       "      <td>1588285271000</td>\n",
       "      <td>15204077775533240</td>\n",
       "      <td>6</td>\n",
       "      <td>all</td>\n",
       "      <td>list</td>\n",
       "      <td>1</td>\n",
       "      <td>中国</td>\n",
       "      <td>湖北省</td>\n",
       "      <td>咸宁市</td>\n",
       "      <td>:蒋鼎文:0.0016957074;:刘国梁:0.7737707;:陈静:0.0330095...</td>\n",
       "      <td>...</td>\n",
       "      <td>历史:1.0</td>\n",
       "      <td>戴笠:1.0;日本:1.0;间谍:1.0;二战:1.0;妓女:1.0;抗日解放战争:1.0</td>\n",
       "      <td>重庆市:0.3;重庆市_重庆市:0.7</td>\n",
       "      <td>第一书记</td>\n",
       "      <td>1.58807e+12</td>\n",
       "      <td>5</td>\n",
       "      <td>180</td>\n",
       "      <td>33</td>\n",
       "      <td>0.0844841</td>\n",
       "      <td>1:抗日解放战争:1.0:0.1784256148550514;2:历史:1.0:0.084...</td>\n",
       "    </tr>\n",
       "  </tbody>\n",
       "</table>\n",
       "<p>5 rows × 23 columns</p>\n",
       "</div>"
      ],
      "text/plain": [
       "     report_time                uid action t_channel t_scene t_action  \\\n",
       "0  1588285267000  15204077775533240      6       all    list        1   \n",
       "1  1588285268000  15204077775533240      6       all    list        1   \n",
       "2  1588285269000  15204077775533240      6       all    list        1   \n",
       "3  1588285271000  15204077775533240      6       all    list        1   \n",
       "4  1588285271000  15204077775533240      6       all    list        1   \n",
       "\n",
       "  t_l_country t_l_province t_l_city  \\\n",
       "0          中国          湖北省      咸宁市   \n",
       "1          中国          湖北省      咸宁市   \n",
       "2          中国          湖北省      咸宁市   \n",
       "3          中国          湖北省      咸宁市   \n",
       "4          中国          湖北省      咸宁市   \n",
       "\n",
       "                                               u_uli  ... cp_l1_category  \\\n",
       "0  :蒋鼎文:0.0016957074;:刘国梁:0.7737707;:陈静:0.0330095...  ...         体育:1.0   \n",
       "1  :蒋鼎文:0.0016957074;:刘国梁:0.7737707;:陈静:0.0330095...  ...         健康:1.0   \n",
       "2  :蒋鼎文:0.0016957074;:刘国梁:0.7737707;:陈静:0.0330095...  ...         健康:1.0   \n",
       "3  :蒋鼎文:0.0016957074;:刘国梁:0.7737707;:陈静:0.0330095...  ...         健康:1.0   \n",
       "4  :蒋鼎文:0.0016957074;:刘国梁:0.7737707;:陈静:0.0330095...  ...         历史:1.0   \n",
       "\n",
       "                                      cp_interests          cp_location  \\\n",
       "0                                   球迷:1.0;运动员:1.0                  NaN   \n",
       "1             红酒:1.0;火龙果:1.0;猕猴桃:1.0;山楂:1.0;饮食:1.0                  NaN   \n",
       "2  心脑血管:1.0;鸡蛋:1.0;高血压:1.0;胆固醇:1.0;血压:1.0;高胆固醇:1.0                  NaN   \n",
       "3                          心脑血管:1.0;高血压:1.0;香蕉:1.0                  NaN   \n",
       "4    戴笠:1.0;日本:1.0;间谍:1.0;二战:1.0;妓女:1.0;抗日解放战争:1.0  重庆市:0.3;重庆市_重庆市:0.7   \n",
       "\n",
       "  cp_publisher cp_publish_time cp_media_level cp_life_hour rs_channel  \\\n",
       "0       羽毛球爱好者     1.58826e+12              0           36       4096   \n",
       "1        健康一言堂     1.58814e+12              0           92     524288   \n",
       "2       一起来侃健康      1.5882e+12              0          384          4   \n",
       "3          北青网     1.58804e+12              3           72          4   \n",
       "4         第一书记     1.58807e+12              5          180         33   \n",
       "\n",
       "    rs_gactr                                         rs_taginfo  \n",
       "0        NaN               1:运动员:1.0:0.0;1:球迷:1.0:0.0;2:体育:1.0:  \n",
       "1  0.0718714                         2:健康:1.0:0.071748359555482  \n",
       "2  0.0940531  1:高血压:1.0:0.1347411723899103;1:心脑血管:1.0:0.1204...  \n",
       "3   0.023838  1:高血压:1.0:0.04373069350774798;1:心脑血管:1.0:0.039...  \n",
       "4  0.0844841  1:抗日解放战争:1.0:0.1784256148550514;2:历史:1.0:0.084...  \n",
       "\n",
       "[5 rows x 23 columns]"
      ]
     },
     "execution_count": 10,
     "metadata": {},
     "output_type": "execute_result"
    }
   ],
   "source": [
    "choose_data.head()"
   ]
  },
  {
   "cell_type": "code",
   "execution_count": 12,
   "metadata": {},
   "outputs": [],
   "source": [
    "choose_data['action'] = choose_data['action'].astype('int').fillna(6).apply(lambda x: x - 6)"
   ]
  },
  {
   "cell_type": "code",
   "execution_count": 13,
   "metadata": {},
   "outputs": [],
   "source": [
    "def parser_interest(item):\n",
    "    out = ''\n",
    "    item = str(item)\n",
    "    if item != 'nan':\n",
    "        for part in item.split(';'):\n",
    "            out += part.split(':')[1]+\"|\"\n",
    "        out = out[:-1]\n",
    "    return out"
   ]
  },
  {
   "cell_type": "code",
   "execution_count": 14,
   "metadata": {},
   "outputs": [],
   "source": [
    "def parser_category(item):\n",
    "    out = ''\n",
    "    item = str(item)\n",
    "    if item != 'nan':\n",
    "        out += item.split(';')[0].split(':')[0]\n",
    "    return out"
   ]
  },
  {
   "cell_type": "code",
   "execution_count": 15,
   "metadata": {},
   "outputs": [],
   "source": [
    "def parser_cp_interest(item):\n",
    "    out = ''\n",
    "    item = str(item)\n",
    "    if item != 'nan':\n",
    "        for part in item.split(';'):\n",
    "            out += part.split(':')[0]+\"|\"\n",
    "        out = out[:-1]\n",
    "    return out"
   ]
  },
  {
   "cell_type": "code",
   "execution_count": 16,
   "metadata": {},
   "outputs": [],
   "source": [
    "def parser_location(item):\n",
    "    out = ''\n",
    "    item = str(item)\n",
    "    if item != 'nan':\n",
    "        for part in item.split(';'):\n",
    "            out += part.split(':')[0]+\"|\"\n",
    "        out = out[:-1]\n",
    "    return out"
   ]
  },
  {
   "cell_type": "code",
   "execution_count": 17,
   "metadata": {},
   "outputs": [],
   "source": [
    "def parser_rs_tag_info(item):\n",
    "    out = ''\n",
    "    item = str(item)\n",
    "    if item != '':\n",
    "        try:\n",
    "            for part in item.split(';'):\n",
    "                if len(part.split(':')) == 1:\n",
    "                    out += part+\"|\"\n",
    "                else:\n",
    "                    out += part.split(':')[1]+\"|\"\n",
    "            if len(out) > 1:\n",
    "                return out[:-1]\n",
    "        except:\n",
    "            print(item)\n",
    "    return out"
   ]
  },
  {
   "cell_type": "code",
   "execution_count": 18,
   "metadata": {},
   "outputs": [],
   "source": [
    "def parser_rs_channel(item):\n",
    "    out = ''\n",
    "    if not item or str(item) == 'NaN':\n",
    "        return out\n",
    "    item = bin(int(item))\n",
    "    size = len(item)\n",
    "    for i in range(2, len(item)):\n",
    "        if item[i] == '1':\n",
    "            out += str(size -i)+\"|\"\n",
    "    return out"
   ]
  },
  {
   "cell_type": "code",
   "execution_count": 19,
   "metadata": {},
   "outputs": [
    {
     "name": "stdout",
     "output_type": "stream",
     "text": [
      "18|12|6|\n"
     ]
    }
   ],
   "source": [
    "print(parser_rs_channel(133152.0))"
   ]
  },
  {
   "cell_type": "code",
   "execution_count": 20,
   "metadata": {},
   "outputs": [],
   "source": [
    "choose_data['rs_channel'] = choose_data['rs_channel'].fillna(0).apply(parser_rs_channel)"
   ]
  },
  {
   "cell_type": "code",
   "execution_count": 21,
   "metadata": {},
   "outputs": [],
   "source": [
    "choose_data['u_uli'] = choose_data['u_uli'].apply(parser_interest)\n",
    "choose_data['u_umi'] = choose_data['u_umi'].apply(parser_interest)\n",
    "# choose_data['u_usi'] = choose_data['u_usi'].apply(parser_interest)\n",
    "# choose_data['u_uvi'] = choose_data['u_uvi'].apply(parser_interest)"
   ]
  },
  {
   "cell_type": "code",
   "execution_count": 22,
   "metadata": {},
   "outputs": [],
   "source": [
    "choose_data['u_level'] = choose_data['u_level'].fillna(0).astype('int')\n",
    "choose_data['cp_life_hour'] = choose_data['cp_life_hour'].fillna(0).astype('int')\n",
    "choose_data['rs_gactr'] = choose_data['rs_gactr'].fillna(0).astype('float')\n",
    "choose_data['t_action'] = choose_data['t_action'].fillna(0).astype('int')\n",
    "# choose_data['cp_list_image_count'] = choose_data['cp_list_image_count'].fillna(0).astype('int')"
   ]
  },
  {
   "cell_type": "code",
   "execution_count": 23,
   "metadata": {},
   "outputs": [],
   "source": [
    "choose_data['uid'] = choose_data['uid'].astype('str')\n",
    "choose_data['t_action'] = choose_data['t_action'].astype('str')\n",
    "choose_data['cp_media_level'] = choose_data['cp_media_level'].astype('str')\n",
    "choose_data['cp_interests'] = choose_data['cp_interests'].astype('str')\n",
    "choose_data['rs_taginfo'] = choose_data['rs_taginfo'].astype('str')"
   ]
  },
  {
   "cell_type": "code",
   "execution_count": 24,
   "metadata": {},
   "outputs": [],
   "source": [
    "choose_data['cp_l1_category'] = choose_data['cp_l1_category'].apply(parser_category)"
   ]
  },
  {
   "cell_type": "code",
   "execution_count": 25,
   "metadata": {},
   "outputs": [],
   "source": [
    "choose_data['cp_interests'] = choose_data['cp_interests'].apply(parser_cp_interest)"
   ]
  },
  {
   "cell_type": "code",
   "execution_count": 26,
   "metadata": {},
   "outputs": [],
   "source": [
    "choose_data['cp_location'] = choose_data['cp_location'].apply(parser_location)"
   ]
  },
  {
   "cell_type": "code",
   "execution_count": 27,
   "metadata": {},
   "outputs": [],
   "source": [
    "choose_data['rs_taginfo'] = choose_data['rs_taginfo'].fillna(\"\").apply(parser_rs_tag_info)"
   ]
  },
  {
   "cell_type": "code",
   "execution_count": 28,
   "metadata": {},
   "outputs": [],
   "source": [
    "choose_data['report_time'] = pd.to_datetime(choose_data['report_time'].astype('int'), utc=True, unit = 'ms').dt.tz_convert('Asia/Shanghai')\n",
    "choose_data['cp_publish_time'] = pd.to_datetime(choose_data['cp_publish_time'].astype('int'), utc=True, unit = 'ms').dt.tz_convert('Asia/Shanghai')"
   ]
  },
  {
   "cell_type": "code",
   "execution_count": 29,
   "metadata": {},
   "outputs": [
    {
     "data": {
      "text/plain": [
       "0         2020-05-01 00:32:00+08:00\n",
       "1         2020-04-29 13:21:00+08:00\n",
       "2         2020-04-30 07:46:00+08:00\n",
       "3         2020-04-28 11:10:00+08:00\n",
       "4         2020-04-28 17:13:00+08:00\n",
       "                     ...           \n",
       "5305143   2020-05-03 12:44:00+08:00\n",
       "5305144   2020-05-02 01:45:00+08:00\n",
       "5305145   2020-05-02 13:18:00+08:00\n",
       "5305146   2020-05-03 09:20:00+08:00\n",
       "5305147   2020-05-02 01:45:00+08:00\n",
       "Name: cp_publish_time, Length: 5305148, dtype: datetime64[ns, Asia/Shanghai]"
      ]
     },
     "execution_count": 29,
     "metadata": {},
     "output_type": "execute_result"
    }
   ],
   "source": [
    "choose_data['cp_publish_time']"
   ]
  },
  {
   "cell_type": "code",
   "execution_count": 30,
   "metadata": {},
   "outputs": [
    {
     "data": {
      "text/plain": [
       "report_time        datetime64[ns, Asia/Shanghai]\n",
       "uid                                       object\n",
       "action                                     int64\n",
       "t_channel                                 object\n",
       "t_scene                                   object\n",
       "t_action                                  object\n",
       "t_l_country                               object\n",
       "t_l_province                              object\n",
       "t_l_city                                  object\n",
       "u_uli                                     object\n",
       "u_umi                                     object\n",
       "u_level                                    int64\n",
       "item_id                                   object\n",
       "cp_l1_category                            object\n",
       "cp_interests                              object\n",
       "cp_location                               object\n",
       "cp_publisher                              object\n",
       "cp_publish_time    datetime64[ns, Asia/Shanghai]\n",
       "cp_media_level                            object\n",
       "cp_life_hour                               int64\n",
       "rs_channel                                object\n",
       "rs_gactr                                 float64\n",
       "rs_taginfo                                object\n",
       "dtype: object"
      ]
     },
     "execution_count": 30,
     "metadata": {},
     "output_type": "execute_result"
    }
   ],
   "source": [
    "choose_data.dtypes"
   ]
  },
  {
   "cell_type": "code",
   "execution_count": 31,
   "metadata": {},
   "outputs": [
    {
     "data": {
      "text/html": [
       "<div>\n",
       "<style scoped>\n",
       "    .dataframe tbody tr th:only-of-type {\n",
       "        vertical-align: middle;\n",
       "    }\n",
       "\n",
       "    .dataframe tbody tr th {\n",
       "        vertical-align: top;\n",
       "    }\n",
       "\n",
       "    .dataframe thead th {\n",
       "        text-align: right;\n",
       "    }\n",
       "</style>\n",
       "<table border=\"1\" class=\"dataframe\">\n",
       "  <thead>\n",
       "    <tr style=\"text-align: right;\">\n",
       "      <th></th>\n",
       "      <th>report_time</th>\n",
       "      <th>uid</th>\n",
       "      <th>action</th>\n",
       "      <th>t_channel</th>\n",
       "      <th>t_scene</th>\n",
       "      <th>t_action</th>\n",
       "      <th>t_l_country</th>\n",
       "      <th>t_l_province</th>\n",
       "      <th>t_l_city</th>\n",
       "      <th>u_uli</th>\n",
       "      <th>...</th>\n",
       "      <th>cp_l1_category</th>\n",
       "      <th>cp_interests</th>\n",
       "      <th>cp_location</th>\n",
       "      <th>cp_publisher</th>\n",
       "      <th>cp_publish_time</th>\n",
       "      <th>cp_media_level</th>\n",
       "      <th>cp_life_hour</th>\n",
       "      <th>rs_channel</th>\n",
       "      <th>rs_gactr</th>\n",
       "      <th>rs_taginfo</th>\n",
       "    </tr>\n",
       "  </thead>\n",
       "  <tbody>\n",
       "    <tr>\n",
       "      <th>0</th>\n",
       "      <td>2020-05-01 06:21:07+08:00</td>\n",
       "      <td>15204077775533240</td>\n",
       "      <td>0</td>\n",
       "      <td>all</td>\n",
       "      <td>list</td>\n",
       "      <td>1</td>\n",
       "      <td>中国</td>\n",
       "      <td>湖北省</td>\n",
       "      <td>咸宁市</td>\n",
       "      <td>蒋鼎文|刘国梁|陈静|银行|侯耀华|医保|黄埔军校|奥运会|井冈山|癌症肿瘤|军衔|陈赓|孔...</td>\n",
       "      <td>...</td>\n",
       "      <td>体育</td>\n",
       "      <td>球迷|运动员</td>\n",
       "      <td></td>\n",
       "      <td>羽毛球爱好者</td>\n",
       "      <td>2020-05-01 00:32:00+08:00</td>\n",
       "      <td>0.0</td>\n",
       "      <td>36</td>\n",
       "      <td>13|</td>\n",
       "      <td>0.000000</td>\n",
       "      <td>运动员|球迷|体育</td>\n",
       "    </tr>\n",
       "    <tr>\n",
       "      <th>1</th>\n",
       "      <td>2020-05-01 06:21:08+08:00</td>\n",
       "      <td>15204077775533240</td>\n",
       "      <td>0</td>\n",
       "      <td>all</td>\n",
       "      <td>list</td>\n",
       "      <td>1</td>\n",
       "      <td>中国</td>\n",
       "      <td>湖北省</td>\n",
       "      <td>咸宁市</td>\n",
       "      <td>蒋鼎文|刘国梁|陈静|银行|侯耀华|医保|黄埔军校|奥运会|井冈山|癌症肿瘤|军衔|陈赓|孔...</td>\n",
       "      <td>...</td>\n",
       "      <td>健康</td>\n",
       "      <td>红酒|火龙果|猕猴桃|山楂|饮食</td>\n",
       "      <td></td>\n",
       "      <td>健康一言堂</td>\n",
       "      <td>2020-04-29 13:21:00+08:00</td>\n",
       "      <td>0.0</td>\n",
       "      <td>92</td>\n",
       "      <td>20|</td>\n",
       "      <td>0.071871</td>\n",
       "      <td>健康</td>\n",
       "    </tr>\n",
       "    <tr>\n",
       "      <th>2</th>\n",
       "      <td>2020-05-01 06:21:09+08:00</td>\n",
       "      <td>15204077775533240</td>\n",
       "      <td>0</td>\n",
       "      <td>all</td>\n",
       "      <td>list</td>\n",
       "      <td>1</td>\n",
       "      <td>中国</td>\n",
       "      <td>湖北省</td>\n",
       "      <td>咸宁市</td>\n",
       "      <td>蒋鼎文|刘国梁|陈静|银行|侯耀华|医保|黄埔军校|奥运会|井冈山|癌症肿瘤|军衔|陈赓|孔...</td>\n",
       "      <td>...</td>\n",
       "      <td>健康</td>\n",
       "      <td>心脑血管|鸡蛋|高血压|胆固醇|血压|高胆固醇</td>\n",
       "      <td></td>\n",
       "      <td>一起来侃健康</td>\n",
       "      <td>2020-04-30 07:46:00+08:00</td>\n",
       "      <td>0.0</td>\n",
       "      <td>384</td>\n",
       "      <td>3|</td>\n",
       "      <td>0.094053</td>\n",
       "      <td>高血压|心脑血管|血压|健康</td>\n",
       "    </tr>\n",
       "    <tr>\n",
       "      <th>3</th>\n",
       "      <td>2020-05-01 06:21:11+08:00</td>\n",
       "      <td>15204077775533240</td>\n",
       "      <td>0</td>\n",
       "      <td>all</td>\n",
       "      <td>list</td>\n",
       "      <td>1</td>\n",
       "      <td>中国</td>\n",
       "      <td>湖北省</td>\n",
       "      <td>咸宁市</td>\n",
       "      <td>蒋鼎文|刘国梁|陈静|银行|侯耀华|医保|黄埔军校|奥运会|井冈山|癌症肿瘤|军衔|陈赓|孔...</td>\n",
       "      <td>...</td>\n",
       "      <td>健康</td>\n",
       "      <td>心脑血管|高血压|香蕉</td>\n",
       "      <td></td>\n",
       "      <td>北青网</td>\n",
       "      <td>2020-04-28 11:10:00+08:00</td>\n",
       "      <td>3.0</td>\n",
       "      <td>72</td>\n",
       "      <td>3|</td>\n",
       "      <td>0.023838</td>\n",
       "      <td>高血压|心脑血管|健康</td>\n",
       "    </tr>\n",
       "    <tr>\n",
       "      <th>4</th>\n",
       "      <td>2020-05-01 06:21:11+08:00</td>\n",
       "      <td>15204077775533240</td>\n",
       "      <td>0</td>\n",
       "      <td>all</td>\n",
       "      <td>list</td>\n",
       "      <td>1</td>\n",
       "      <td>中国</td>\n",
       "      <td>湖北省</td>\n",
       "      <td>咸宁市</td>\n",
       "      <td>蒋鼎文|刘国梁|陈静|银行|侯耀华|医保|黄埔军校|奥运会|井冈山|癌症肿瘤|军衔|陈赓|孔...</td>\n",
       "      <td>...</td>\n",
       "      <td>历史</td>\n",
       "      <td>戴笠|日本|间谍|二战|妓女|抗日解放战争</td>\n",
       "      <td>重庆市|重庆市_重庆市</td>\n",
       "      <td>第一书记</td>\n",
       "      <td>2020-04-28 17:13:00+08:00</td>\n",
       "      <td>5.0</td>\n",
       "      <td>180</td>\n",
       "      <td>6|1|</td>\n",
       "      <td>0.084484</td>\n",
       "      <td>抗日解放战争|历史</td>\n",
       "    </tr>\n",
       "  </tbody>\n",
       "</table>\n",
       "<p>5 rows × 23 columns</p>\n",
       "</div>"
      ],
      "text/plain": [
       "                report_time                uid  action t_channel t_scene  \\\n",
       "0 2020-05-01 06:21:07+08:00  15204077775533240       0       all    list   \n",
       "1 2020-05-01 06:21:08+08:00  15204077775533240       0       all    list   \n",
       "2 2020-05-01 06:21:09+08:00  15204077775533240       0       all    list   \n",
       "3 2020-05-01 06:21:11+08:00  15204077775533240       0       all    list   \n",
       "4 2020-05-01 06:21:11+08:00  15204077775533240       0       all    list   \n",
       "\n",
       "  t_action t_l_country t_l_province t_l_city  \\\n",
       "0        1          中国          湖北省      咸宁市   \n",
       "1        1          中国          湖北省      咸宁市   \n",
       "2        1          中国          湖北省      咸宁市   \n",
       "3        1          中国          湖北省      咸宁市   \n",
       "4        1          中国          湖北省      咸宁市   \n",
       "\n",
       "                                               u_uli  ... cp_l1_category  \\\n",
       "0  蒋鼎文|刘国梁|陈静|银行|侯耀华|医保|黄埔军校|奥运会|井冈山|癌症肿瘤|军衔|陈赓|孔...  ...             体育   \n",
       "1  蒋鼎文|刘国梁|陈静|银行|侯耀华|医保|黄埔军校|奥运会|井冈山|癌症肿瘤|军衔|陈赓|孔...  ...             健康   \n",
       "2  蒋鼎文|刘国梁|陈静|银行|侯耀华|医保|黄埔军校|奥运会|井冈山|癌症肿瘤|军衔|陈赓|孔...  ...             健康   \n",
       "3  蒋鼎文|刘国梁|陈静|银行|侯耀华|医保|黄埔军校|奥运会|井冈山|癌症肿瘤|军衔|陈赓|孔...  ...             健康   \n",
       "4  蒋鼎文|刘国梁|陈静|银行|侯耀华|医保|黄埔军校|奥运会|井冈山|癌症肿瘤|军衔|陈赓|孔...  ...             历史   \n",
       "\n",
       "              cp_interests  cp_location cp_publisher  \\\n",
       "0                   球迷|运动员                    羽毛球爱好者   \n",
       "1         红酒|火龙果|猕猴桃|山楂|饮食                     健康一言堂   \n",
       "2  心脑血管|鸡蛋|高血压|胆固醇|血压|高胆固醇                    一起来侃健康   \n",
       "3              心脑血管|高血压|香蕉                       北青网   \n",
       "4    戴笠|日本|间谍|二战|妓女|抗日解放战争  重庆市|重庆市_重庆市         第一书记   \n",
       "\n",
       "            cp_publish_time cp_media_level cp_life_hour rs_channel  rs_gactr  \\\n",
       "0 2020-05-01 00:32:00+08:00            0.0           36        13|  0.000000   \n",
       "1 2020-04-29 13:21:00+08:00            0.0           92        20|  0.071871   \n",
       "2 2020-04-30 07:46:00+08:00            0.0          384         3|  0.094053   \n",
       "3 2020-04-28 11:10:00+08:00            3.0           72         3|  0.023838   \n",
       "4 2020-04-28 17:13:00+08:00            5.0          180       6|1|  0.084484   \n",
       "\n",
       "       rs_taginfo  \n",
       "0       运动员|球迷|体育  \n",
       "1              健康  \n",
       "2  高血压|心脑血管|血压|健康  \n",
       "3     高血压|心脑血管|健康  \n",
       "4       抗日解放战争|历史  \n",
       "\n",
       "[5 rows x 23 columns]"
      ]
     },
     "execution_count": 31,
     "metadata": {},
     "output_type": "execute_result"
    }
   ],
   "source": [
    "choose_data.head(5)"
   ]
  },
  {
   "cell_type": "code",
   "execution_count": 32,
   "metadata": {},
   "outputs": [
    {
     "name": "stdout",
     "output_type": "stream",
     "text": [
      "<class 'pandas.core.frame.DataFrame'>\n",
      "RangeIndex: 5305148 entries, 0 to 5305147\n",
      "Data columns (total 23 columns):\n",
      " #   Column           Dtype                        \n",
      "---  ------           -----                        \n",
      " 0   report_time      datetime64[ns, Asia/Shanghai]\n",
      " 1   uid              object                       \n",
      " 2   action           int64                        \n",
      " 3   t_channel        object                       \n",
      " 4   t_scene          object                       \n",
      " 5   t_action         object                       \n",
      " 6   t_l_country      object                       \n",
      " 7   t_l_province     object                       \n",
      " 8   t_l_city         object                       \n",
      " 9   u_uli            object                       \n",
      " 10  u_umi            object                       \n",
      " 11  u_level          int64                        \n",
      " 12  item_id          object                       \n",
      " 13  cp_l1_category   object                       \n",
      " 14  cp_interests     object                       \n",
      " 15  cp_location      object                       \n",
      " 16  cp_publisher     object                       \n",
      " 17  cp_publish_time  datetime64[ns, Asia/Shanghai]\n",
      " 18  cp_media_level   object                       \n",
      " 19  cp_life_hour     int64                        \n",
      " 20  rs_channel       object                       \n",
      " 21  rs_gactr         float64                      \n",
      " 22  rs_taginfo       object                       \n",
      "dtypes: datetime64[ns, Asia/Shanghai](2), float64(1), int64(3), object(17)\n",
      "memory usage: 930.9+ MB\n"
     ]
    }
   ],
   "source": [
    "choose_data.info()"
   ]
  },
  {
   "cell_type": "code",
   "execution_count": 33,
   "metadata": {},
   "outputs": [
    {
     "data": {
      "text/plain": [
       "array(['report_time', 'uid', 'action', 't_channel', 't_scene', 't_action',\n",
       "       't_l_country', 't_l_province', 't_l_city', 'u_uli', 'u_umi',\n",
       "       'u_level', 'item_id', 'cp_l1_category', 'cp_interests',\n",
       "       'cp_location', 'cp_publisher', 'cp_publish_time', 'cp_media_level',\n",
       "       'cp_life_hour', 'rs_channel', 'rs_gactr', 'rs_taginfo'],\n",
       "      dtype=object)"
      ]
     },
     "execution_count": 33,
     "metadata": {},
     "output_type": "execute_result"
    }
   ],
   "source": [
    "choose_data.columns.values"
   ]
  },
  {
   "cell_type": "code",
   "execution_count": 34,
   "metadata": {},
   "outputs": [],
   "source": [
    "sparse_features = ['uid', 't_channel', 't_scene', 't_action',\n",
    "       't_l_country', 't_l_province', 't_l_city', \n",
    "        'item_id', 'cp_interests', 'cp_publisher', 'cp_media_level']"
   ]
  },
  {
   "cell_type": "code",
   "execution_count": 41,
   "metadata": {},
   "outputs": [],
   "source": [
    "dense_features = ['u_level', 'cp_life_hour', 'rs_gactr']"
   ]
  },
  {
   "cell_type": "code",
   "execution_count": 36,
   "metadata": {},
   "outputs": [
    {
     "data": {
      "text/plain": [
       "report_time        datetime64[ns, Asia/Shanghai]\n",
       "uid                                       object\n",
       "action                                     int64\n",
       "t_channel                                 object\n",
       "t_scene                                   object\n",
       "t_action                                  object\n",
       "t_l_country                               object\n",
       "t_l_province                              object\n",
       "t_l_city                                  object\n",
       "u_uli                                     object\n",
       "u_umi                                     object\n",
       "u_level                                    int64\n",
       "item_id                                   object\n",
       "cp_l1_category                            object\n",
       "cp_interests                              object\n",
       "cp_location                               object\n",
       "cp_publisher                              object\n",
       "cp_publish_time    datetime64[ns, Asia/Shanghai]\n",
       "cp_media_level                            object\n",
       "cp_life_hour                               int64\n",
       "rs_channel                                object\n",
       "rs_gactr                                 float64\n",
       "rs_taginfo                                object\n",
       "dtype: object"
      ]
     },
     "execution_count": 36,
     "metadata": {},
     "output_type": "execute_result"
    }
   ],
   "source": [
    "choose_data.dtypes"
   ]
  },
  {
   "cell_type": "code",
   "execution_count": 37,
   "metadata": {},
   "outputs": [],
   "source": [
    "target = ['action']"
   ]
  },
  {
   "cell_type": "code",
   "execution_count": 38,
   "metadata": {},
   "outputs": [],
   "source": [
    "from sklearn.preprocessing import LabelEncoder, MinMaxScaler"
   ]
  },
  {
   "cell_type": "code",
   "execution_count": 39,
   "metadata": {},
   "outputs": [
    {
     "name": "stdout",
     "output_type": "stream",
     "text": [
      "uid\n",
      "t_channel\n",
      "t_scene\n",
      "t_action\n",
      "t_l_country\n",
      "t_l_province\n",
      "t_l_city\n",
      "item_id\n",
      "cp_interests\n",
      "cp_publisher\n",
      "cp_media_level\n"
     ]
    }
   ],
   "source": [
    "for feat in sparse_features:\n",
    "    lbe = LabelEncoder()\n",
    "    print(feat)\n",
    "    choose_data[feat] = lbe.fit_transform(choose_data[feat])"
   ]
  },
  {
   "cell_type": "code",
   "execution_count": 42,
   "metadata": {},
   "outputs": [],
   "source": [
    "mms = MinMaxScaler(feature_range=(0, 1))\n",
    "choose_data[dense_features] = mms.fit_transform(choose_data[dense_features])"
   ]
  },
  {
   "cell_type": "code",
   "execution_count": 45,
   "metadata": {},
   "outputs": [
    {
     "data": {
      "text/html": [
       "<div>\n",
       "<style scoped>\n",
       "    .dataframe tbody tr th:only-of-type {\n",
       "        vertical-align: middle;\n",
       "    }\n",
       "\n",
       "    .dataframe tbody tr th {\n",
       "        vertical-align: top;\n",
       "    }\n",
       "\n",
       "    .dataframe thead th {\n",
       "        text-align: right;\n",
       "    }\n",
       "</style>\n",
       "<table border=\"1\" class=\"dataframe\">\n",
       "  <thead>\n",
       "    <tr style=\"text-align: right;\">\n",
       "      <th></th>\n",
       "      <th>report_time</th>\n",
       "      <th>uid</th>\n",
       "      <th>action</th>\n",
       "      <th>t_channel</th>\n",
       "      <th>t_scene</th>\n",
       "      <th>t_action</th>\n",
       "      <th>t_l_country</th>\n",
       "      <th>t_l_province</th>\n",
       "      <th>t_l_city</th>\n",
       "      <th>u_uli</th>\n",
       "      <th>...</th>\n",
       "      <th>cp_l1_category</th>\n",
       "      <th>cp_interests</th>\n",
       "      <th>cp_location</th>\n",
       "      <th>cp_publisher</th>\n",
       "      <th>cp_publish_time</th>\n",
       "      <th>cp_media_level</th>\n",
       "      <th>cp_life_hour</th>\n",
       "      <th>rs_channel</th>\n",
       "      <th>rs_gactr</th>\n",
       "      <th>rs_taginfo</th>\n",
       "    </tr>\n",
       "  </thead>\n",
       "  <tbody>\n",
       "    <tr>\n",
       "      <th>5304848</th>\n",
       "      <td>2020-05-03 18:51:54+08:00</td>\n",
       "      <td>162742</td>\n",
       "      <td>0</td>\n",
       "      <td>0</td>\n",
       "      <td>0</td>\n",
       "      <td>0</td>\n",
       "      <td>2</td>\n",
       "      <td>111</td>\n",
       "      <td>167</td>\n",
       "      <td></td>\n",
       "      <td>...</td>\n",
       "      <td>娱乐</td>\n",
       "      <td>18329</td>\n",
       "      <td></td>\n",
       "      <td>912</td>\n",
       "      <td>2020-05-03 09:29:00+08:00</td>\n",
       "      <td>9</td>\n",
       "      <td>0.000000</td>\n",
       "      <td>7|</td>\n",
       "      <td>0.645832</td>\n",
       "      <td>娱乐</td>\n",
       "    </tr>\n",
       "    <tr>\n",
       "      <th>5304849</th>\n",
       "      <td>2020-05-03 18:51:56+08:00</td>\n",
       "      <td>162742</td>\n",
       "      <td>0</td>\n",
       "      <td>0</td>\n",
       "      <td>0</td>\n",
       "      <td>0</td>\n",
       "      <td>2</td>\n",
       "      <td>111</td>\n",
       "      <td>167</td>\n",
       "      <td></td>\n",
       "      <td>...</td>\n",
       "      <td>健康</td>\n",
       "      <td>4221</td>\n",
       "      <td></td>\n",
       "      <td>2732</td>\n",
       "      <td>2020-05-03 08:21:00+08:00</td>\n",
       "      <td>9</td>\n",
       "      <td>0.034483</td>\n",
       "      <td>6|</td>\n",
       "      <td>0.646300</td>\n",
       "      <td>健康</td>\n",
       "    </tr>\n",
       "    <tr>\n",
       "      <th>5304850</th>\n",
       "      <td>2020-05-03 18:52:12+08:00</td>\n",
       "      <td>162742</td>\n",
       "      <td>0</td>\n",
       "      <td>0</td>\n",
       "      <td>0</td>\n",
       "      <td>0</td>\n",
       "      <td>2</td>\n",
       "      <td>111</td>\n",
       "      <td>167</td>\n",
       "      <td></td>\n",
       "      <td>...</td>\n",
       "      <td>社会</td>\n",
       "      <td>4747</td>\n",
       "      <td>江苏省|江苏省_南京市|江苏省_南京市_秦淮区</td>\n",
       "      <td>2699</td>\n",
       "      <td>2020-05-03 14:43:00+08:00</td>\n",
       "      <td>5</td>\n",
       "      <td>0.034483</td>\n",
       "      <td>23|4|</td>\n",
       "      <td>0.641667</td>\n",
       "      <td>社会</td>\n",
       "    </tr>\n",
       "    <tr>\n",
       "      <th>5304851</th>\n",
       "      <td>2020-05-03 18:52:13+08:00</td>\n",
       "      <td>162742</td>\n",
       "      <td>0</td>\n",
       "      <td>0</td>\n",
       "      <td>0</td>\n",
       "      <td>0</td>\n",
       "      <td>2</td>\n",
       "      <td>111</td>\n",
       "      <td>167</td>\n",
       "      <td></td>\n",
       "      <td>...</td>\n",
       "      <td>搞笑</td>\n",
       "      <td>11906</td>\n",
       "      <td></td>\n",
       "      <td>6577</td>\n",
       "      <td>2020-05-03 11:36:00+08:00</td>\n",
       "      <td>3</td>\n",
       "      <td>1.000000</td>\n",
       "      <td>6|</td>\n",
       "      <td>0.645926</td>\n",
       "      <td>搞笑</td>\n",
       "    </tr>\n",
       "    <tr>\n",
       "      <th>5304852</th>\n",
       "      <td>2020-05-03 18:52:18+08:00</td>\n",
       "      <td>162742</td>\n",
       "      <td>0</td>\n",
       "      <td>0</td>\n",
       "      <td>0</td>\n",
       "      <td>0</td>\n",
       "      <td>2</td>\n",
       "      <td>111</td>\n",
       "      <td>167</td>\n",
       "      <td></td>\n",
       "      <td>...</td>\n",
       "      <td>动物</td>\n",
       "      <td>11322</td>\n",
       "      <td></td>\n",
       "      <td>9394</td>\n",
       "      <td>2020-05-01 22:13:00+08:00</td>\n",
       "      <td>9</td>\n",
       "      <td>0.034483</td>\n",
       "      <td>6|</td>\n",
       "      <td>0.646204</td>\n",
       "      <td>动物</td>\n",
       "    </tr>\n",
       "    <tr>\n",
       "      <th>...</th>\n",
       "      <td>...</td>\n",
       "      <td>...</td>\n",
       "      <td>...</td>\n",
       "      <td>...</td>\n",
       "      <td>...</td>\n",
       "      <td>...</td>\n",
       "      <td>...</td>\n",
       "      <td>...</td>\n",
       "      <td>...</td>\n",
       "      <td>...</td>\n",
       "      <td>...</td>\n",
       "      <td>...</td>\n",
       "      <td>...</td>\n",
       "      <td>...</td>\n",
       "      <td>...</td>\n",
       "      <td>...</td>\n",
       "      <td>...</td>\n",
       "      <td>...</td>\n",
       "      <td>...</td>\n",
       "      <td>...</td>\n",
       "      <td>...</td>\n",
       "    </tr>\n",
       "    <tr>\n",
       "      <th>5305143</th>\n",
       "      <td>2020-05-03 18:33:50+08:00</td>\n",
       "      <td>162756</td>\n",
       "      <td>0</td>\n",
       "      <td>0</td>\n",
       "      <td>0</td>\n",
       "      <td>0</td>\n",
       "      <td>2</td>\n",
       "      <td>84</td>\n",
       "      <td>242</td>\n",
       "      <td></td>\n",
       "      <td>...</td>\n",
       "      <td>国际</td>\n",
       "      <td>8166</td>\n",
       "      <td></td>\n",
       "      <td>9591</td>\n",
       "      <td>2020-05-03 12:44:00+08:00</td>\n",
       "      <td>5</td>\n",
       "      <td>0.034483</td>\n",
       "      <td>6|3|</td>\n",
       "      <td>0.645889</td>\n",
       "      <td>美国|美国对外贸易|国际</td>\n",
       "    </tr>\n",
       "    <tr>\n",
       "      <th>5305144</th>\n",
       "      <td>2020-05-03 18:33:51+08:00</td>\n",
       "      <td>162756</td>\n",
       "      <td>0</td>\n",
       "      <td>0</td>\n",
       "      <td>0</td>\n",
       "      <td>0</td>\n",
       "      <td>2</td>\n",
       "      <td>84</td>\n",
       "      <td>242</td>\n",
       "      <td></td>\n",
       "      <td>...</td>\n",
       "      <td>国际</td>\n",
       "      <td>7973</td>\n",
       "      <td></td>\n",
       "      <td>12546</td>\n",
       "      <td>2020-05-02 01:45:00+08:00</td>\n",
       "      <td>1</td>\n",
       "      <td>0.087644</td>\n",
       "      <td>3|</td>\n",
       "      <td>0.649423</td>\n",
       "      <td>美国|国际</td>\n",
       "    </tr>\n",
       "    <tr>\n",
       "      <th>5305145</th>\n",
       "      <td>2020-05-03 18:33:51+08:00</td>\n",
       "      <td>162756</td>\n",
       "      <td>0</td>\n",
       "      <td>0</td>\n",
       "      <td>0</td>\n",
       "      <td>0</td>\n",
       "      <td>2</td>\n",
       "      <td>84</td>\n",
       "      <td>242</td>\n",
       "      <td></td>\n",
       "      <td>...</td>\n",
       "      <td>国际</td>\n",
       "      <td>8022</td>\n",
       "      <td>台湾省</td>\n",
       "      <td>9591</td>\n",
       "      <td>2020-05-02 13:18:00+08:00</td>\n",
       "      <td>5</td>\n",
       "      <td>0.034483</td>\n",
       "      <td>20|6|3|</td>\n",
       "      <td>0.646484</td>\n",
       "      <td>美国|国际</td>\n",
       "    </tr>\n",
       "    <tr>\n",
       "      <th>5305146</th>\n",
       "      <td>2020-05-03 18:33:52+08:00</td>\n",
       "      <td>162756</td>\n",
       "      <td>0</td>\n",
       "      <td>0</td>\n",
       "      <td>0</td>\n",
       "      <td>0</td>\n",
       "      <td>2</td>\n",
       "      <td>84</td>\n",
       "      <td>242</td>\n",
       "      <td></td>\n",
       "      <td>...</td>\n",
       "      <td>健康</td>\n",
       "      <td>32435</td>\n",
       "      <td>广东省|广东省_广州市</td>\n",
       "      <td>7204</td>\n",
       "      <td>2020-05-03 09:20:00+08:00</td>\n",
       "      <td>1</td>\n",
       "      <td>0.068966</td>\n",
       "      <td>23|4|</td>\n",
       "      <td>0.642239</td>\n",
       "      <td>健康</td>\n",
       "    </tr>\n",
       "    <tr>\n",
       "      <th>5305147</th>\n",
       "      <td>2020-05-03 18:33:52+08:00</td>\n",
       "      <td>162756</td>\n",
       "      <td>0</td>\n",
       "      <td>0</td>\n",
       "      <td>0</td>\n",
       "      <td>0</td>\n",
       "      <td>2</td>\n",
       "      <td>84</td>\n",
       "      <td>242</td>\n",
       "      <td></td>\n",
       "      <td>...</td>\n",
       "      <td>国际</td>\n",
       "      <td>6722</td>\n",
       "      <td></td>\n",
       "      <td>7812</td>\n",
       "      <td>2020-05-02 01:45:00+08:00</td>\n",
       "      <td>1</td>\n",
       "      <td>0.034483</td>\n",
       "      <td>3|</td>\n",
       "      <td>0.644886</td>\n",
       "      <td>美国|国际</td>\n",
       "    </tr>\n",
       "  </tbody>\n",
       "</table>\n",
       "<p>300 rows × 23 columns</p>\n",
       "</div>"
      ],
      "text/plain": [
       "                      report_time     uid  action  t_channel  t_scene  \\\n",
       "5304848 2020-05-03 18:51:54+08:00  162742       0          0        0   \n",
       "5304849 2020-05-03 18:51:56+08:00  162742       0          0        0   \n",
       "5304850 2020-05-03 18:52:12+08:00  162742       0          0        0   \n",
       "5304851 2020-05-03 18:52:13+08:00  162742       0          0        0   \n",
       "5304852 2020-05-03 18:52:18+08:00  162742       0          0        0   \n",
       "...                           ...     ...     ...        ...      ...   \n",
       "5305143 2020-05-03 18:33:50+08:00  162756       0          0        0   \n",
       "5305144 2020-05-03 18:33:51+08:00  162756       0          0        0   \n",
       "5305145 2020-05-03 18:33:51+08:00  162756       0          0        0   \n",
       "5305146 2020-05-03 18:33:52+08:00  162756       0          0        0   \n",
       "5305147 2020-05-03 18:33:52+08:00  162756       0          0        0   \n",
       "\n",
       "         t_action  t_l_country  t_l_province  t_l_city u_uli  ...  \\\n",
       "5304848         0            2           111       167        ...   \n",
       "5304849         0            2           111       167        ...   \n",
       "5304850         0            2           111       167        ...   \n",
       "5304851         0            2           111       167        ...   \n",
       "5304852         0            2           111       167        ...   \n",
       "...           ...          ...           ...       ...   ...  ...   \n",
       "5305143         0            2            84       242        ...   \n",
       "5305144         0            2            84       242        ...   \n",
       "5305145         0            2            84       242        ...   \n",
       "5305146         0            2            84       242        ...   \n",
       "5305147         0            2            84       242        ...   \n",
       "\n",
       "        cp_l1_category  cp_interests              cp_location cp_publisher  \\\n",
       "5304848             娱乐         18329                                   912   \n",
       "5304849             健康          4221                                  2732   \n",
       "5304850             社会          4747  江苏省|江苏省_南京市|江苏省_南京市_秦淮区         2699   \n",
       "5304851             搞笑         11906                                  6577   \n",
       "5304852             动物         11322                                  9394   \n",
       "...                ...           ...                      ...          ...   \n",
       "5305143             国际          8166                                  9591   \n",
       "5305144             国际          7973                                 12546   \n",
       "5305145             国际          8022                      台湾省         9591   \n",
       "5305146             健康         32435              广东省|广东省_广州市         7204   \n",
       "5305147             国际          6722                                  7812   \n",
       "\n",
       "                  cp_publish_time cp_media_level  cp_life_hour rs_channel  \\\n",
       "5304848 2020-05-03 09:29:00+08:00              9      0.000000         7|   \n",
       "5304849 2020-05-03 08:21:00+08:00              9      0.034483         6|   \n",
       "5304850 2020-05-03 14:43:00+08:00              5      0.034483      23|4|   \n",
       "5304851 2020-05-03 11:36:00+08:00              3      1.000000         6|   \n",
       "5304852 2020-05-01 22:13:00+08:00              9      0.034483         6|   \n",
       "...                           ...            ...           ...        ...   \n",
       "5305143 2020-05-03 12:44:00+08:00              5      0.034483       6|3|   \n",
       "5305144 2020-05-02 01:45:00+08:00              1      0.087644         3|   \n",
       "5305145 2020-05-02 13:18:00+08:00              5      0.034483    20|6|3|   \n",
       "5305146 2020-05-03 09:20:00+08:00              1      0.068966      23|4|   \n",
       "5305147 2020-05-02 01:45:00+08:00              1      0.034483         3|   \n",
       "\n",
       "         rs_gactr    rs_taginfo  \n",
       "5304848  0.645832            娱乐  \n",
       "5304849  0.646300            健康  \n",
       "5304850  0.641667            社会  \n",
       "5304851  0.645926            搞笑  \n",
       "5304852  0.646204            动物  \n",
       "...           ...           ...  \n",
       "5305143  0.645889  美国|美国对外贸易|国际  \n",
       "5305144  0.649423         美国|国际  \n",
       "5305145  0.646484         美国|国际  \n",
       "5305146  0.642239            健康  \n",
       "5305147  0.644886         美国|国际  \n",
       "\n",
       "[300 rows x 23 columns]"
      ]
     },
     "execution_count": 45,
     "metadata": {},
     "output_type": "execute_result"
    }
   ],
   "source": [
    "choose_data.tail(300)"
   ]
  },
  {
   "cell_type": "code",
   "execution_count": 46,
   "metadata": {},
   "outputs": [],
   "source": [
    "from tensorflow.python.keras.preprocessing.sequence import pad_sequences"
   ]
  },
  {
   "cell_type": "code",
   "execution_count": 47,
   "metadata": {},
   "outputs": [],
   "source": [
    "def gen_pad_seq(index):\n",
    "    key2index = {}\n",
    "    def split(x):\n",
    "        key_ans = x.split('|')\n",
    "        for key in key_ans:\n",
    "            if key not in key2index:\n",
    "                key2index[key] = len(key2index) + 1\n",
    "        return list(map(lambda x: key2index[x], key_ans))\n",
    "    index_list = list(map(split, choose_data[index].values))\n",
    "    index_length = np.array(list(map(len, index_list)))\n",
    "    max_len = max(index_length)\n",
    "    index_list = pad_sequences(index_list, maxlen=max_len, padding='post', )\n",
    "    return key2index, index_list, max_len"
   ]
  },
  {
   "cell_type": "code",
   "execution_count": 48,
   "metadata": {},
   "outputs": [
    {
     "ename": "MemoryError",
     "evalue": "Unable to allocate 10.7 GiB for an array with shape (5305148, 540) and data type int32",
     "output_type": "error",
     "traceback": [
      "\u001b[0;31m---------------------------------------------------------------------------\u001b[0m",
      "\u001b[0;31mMemoryError\u001b[0m                               Traceback (most recent call last)",
      "\u001b[0;32m<ipython-input-48-da0ee68dfa48>\u001b[0m in \u001b[0;36m<module>\u001b[0;34m\u001b[0m\n\u001b[0;32m----> 1\u001b[0;31m \u001b[0muli_key2index\u001b[0m\u001b[0;34m,\u001b[0m \u001b[0muli_index_list\u001b[0m\u001b[0;34m,\u001b[0m \u001b[0muli_max_len\u001b[0m  \u001b[0;34m=\u001b[0m \u001b[0mgen_pad_seq\u001b[0m\u001b[0;34m(\u001b[0m\u001b[0;34m'u_uli'\u001b[0m\u001b[0;34m)\u001b[0m\u001b[0;34m\u001b[0m\u001b[0;34m\u001b[0m\u001b[0m\n\u001b[0m\u001b[1;32m      2\u001b[0m \u001b[0mumi_key2index\u001b[0m\u001b[0;34m,\u001b[0m \u001b[0mumi_index_list\u001b[0m\u001b[0;34m,\u001b[0m \u001b[0mumi_max_len\u001b[0m \u001b[0;34m=\u001b[0m \u001b[0mgen_pad_seq\u001b[0m\u001b[0;34m(\u001b[0m\u001b[0;34m'u_umi'\u001b[0m\u001b[0;34m)\u001b[0m\u001b[0;34m\u001b[0m\u001b[0;34m\u001b[0m\u001b[0m\n",
      "\u001b[0;32m<ipython-input-47-e45ff2436403>\u001b[0m in \u001b[0;36mgen_pad_seq\u001b[0;34m(index)\u001b[0m\n\u001b[1;32m     10\u001b[0m     \u001b[0mindex_length\u001b[0m \u001b[0;34m=\u001b[0m \u001b[0mnp\u001b[0m\u001b[0;34m.\u001b[0m\u001b[0marray\u001b[0m\u001b[0;34m(\u001b[0m\u001b[0mlist\u001b[0m\u001b[0;34m(\u001b[0m\u001b[0mmap\u001b[0m\u001b[0;34m(\u001b[0m\u001b[0mlen\u001b[0m\u001b[0;34m,\u001b[0m \u001b[0mindex_list\u001b[0m\u001b[0;34m)\u001b[0m\u001b[0;34m)\u001b[0m\u001b[0;34m)\u001b[0m\u001b[0;34m\u001b[0m\u001b[0;34m\u001b[0m\u001b[0m\n\u001b[1;32m     11\u001b[0m     \u001b[0mmax_len\u001b[0m \u001b[0;34m=\u001b[0m \u001b[0mmax\u001b[0m\u001b[0;34m(\u001b[0m\u001b[0mindex_length\u001b[0m\u001b[0;34m)\u001b[0m\u001b[0;34m\u001b[0m\u001b[0;34m\u001b[0m\u001b[0m\n\u001b[0;32m---> 12\u001b[0;31m     \u001b[0mindex_list\u001b[0m \u001b[0;34m=\u001b[0m \u001b[0mpad_sequences\u001b[0m\u001b[0;34m(\u001b[0m\u001b[0mindex_list\u001b[0m\u001b[0;34m,\u001b[0m \u001b[0mmaxlen\u001b[0m\u001b[0;34m=\u001b[0m\u001b[0mmax_len\u001b[0m\u001b[0;34m,\u001b[0m \u001b[0mpadding\u001b[0m\u001b[0;34m=\u001b[0m\u001b[0;34m'post'\u001b[0m\u001b[0;34m,\u001b[0m \u001b[0;34m)\u001b[0m\u001b[0;34m\u001b[0m\u001b[0;34m\u001b[0m\u001b[0m\n\u001b[0m\u001b[1;32m     13\u001b[0m     \u001b[0;32mreturn\u001b[0m \u001b[0mkey2index\u001b[0m\u001b[0;34m,\u001b[0m \u001b[0mindex_list\u001b[0m\u001b[0;34m,\u001b[0m \u001b[0mmax_len\u001b[0m\u001b[0;34m\u001b[0m\u001b[0;34m\u001b[0m\u001b[0m\n",
      "\u001b[0;32m~/.pyenv/versions/3.6.10/lib/python3.6/site-packages/keras_preprocessing/sequence.py\u001b[0m in \u001b[0;36mpad_sequences\u001b[0;34m(sequences, maxlen, dtype, padding, truncating, value)\u001b[0m\n\u001b[1;32m     81\u001b[0m                          .format(dtype, type(value)))\n\u001b[1;32m     82\u001b[0m \u001b[0;34m\u001b[0m\u001b[0m\n\u001b[0;32m---> 83\u001b[0;31m     \u001b[0mx\u001b[0m \u001b[0;34m=\u001b[0m \u001b[0mnp\u001b[0m\u001b[0;34m.\u001b[0m\u001b[0mfull\u001b[0m\u001b[0;34m(\u001b[0m\u001b[0;34m(\u001b[0m\u001b[0mnum_samples\u001b[0m\u001b[0;34m,\u001b[0m \u001b[0mmaxlen\u001b[0m\u001b[0;34m)\u001b[0m \u001b[0;34m+\u001b[0m \u001b[0msample_shape\u001b[0m\u001b[0;34m,\u001b[0m \u001b[0mvalue\u001b[0m\u001b[0;34m,\u001b[0m \u001b[0mdtype\u001b[0m\u001b[0;34m=\u001b[0m\u001b[0mdtype\u001b[0m\u001b[0;34m)\u001b[0m\u001b[0;34m\u001b[0m\u001b[0;34m\u001b[0m\u001b[0m\n\u001b[0m\u001b[1;32m     84\u001b[0m     \u001b[0;32mfor\u001b[0m \u001b[0midx\u001b[0m\u001b[0;34m,\u001b[0m \u001b[0ms\u001b[0m \u001b[0;32min\u001b[0m \u001b[0menumerate\u001b[0m\u001b[0;34m(\u001b[0m\u001b[0msequences\u001b[0m\u001b[0;34m)\u001b[0m\u001b[0;34m:\u001b[0m\u001b[0;34m\u001b[0m\u001b[0;34m\u001b[0m\u001b[0m\n\u001b[1;32m     85\u001b[0m         \u001b[0;32mif\u001b[0m \u001b[0;32mnot\u001b[0m \u001b[0mlen\u001b[0m\u001b[0;34m(\u001b[0m\u001b[0ms\u001b[0m\u001b[0;34m)\u001b[0m\u001b[0;34m:\u001b[0m\u001b[0;34m\u001b[0m\u001b[0;34m\u001b[0m\u001b[0m\n",
      "\u001b[0;32m~/.pyenv/versions/3.6.10/lib/python3.6/site-packages/numpy/core/numeric.py\u001b[0m in \u001b[0;36mfull\u001b[0;34m(shape, fill_value, dtype, order)\u001b[0m\n\u001b[1;32m    323\u001b[0m     \u001b[0;32mif\u001b[0m \u001b[0mdtype\u001b[0m \u001b[0;32mis\u001b[0m \u001b[0;32mNone\u001b[0m\u001b[0;34m:\u001b[0m\u001b[0;34m\u001b[0m\u001b[0;34m\u001b[0m\u001b[0m\n\u001b[1;32m    324\u001b[0m         \u001b[0mdtype\u001b[0m \u001b[0;34m=\u001b[0m \u001b[0marray\u001b[0m\u001b[0;34m(\u001b[0m\u001b[0mfill_value\u001b[0m\u001b[0;34m)\u001b[0m\u001b[0;34m.\u001b[0m\u001b[0mdtype\u001b[0m\u001b[0;34m\u001b[0m\u001b[0;34m\u001b[0m\u001b[0m\n\u001b[0;32m--> 325\u001b[0;31m     \u001b[0ma\u001b[0m \u001b[0;34m=\u001b[0m \u001b[0mempty\u001b[0m\u001b[0;34m(\u001b[0m\u001b[0mshape\u001b[0m\u001b[0;34m,\u001b[0m \u001b[0mdtype\u001b[0m\u001b[0;34m,\u001b[0m \u001b[0morder\u001b[0m\u001b[0;34m)\u001b[0m\u001b[0;34m\u001b[0m\u001b[0;34m\u001b[0m\u001b[0m\n\u001b[0m\u001b[1;32m    326\u001b[0m     \u001b[0mmultiarray\u001b[0m\u001b[0;34m.\u001b[0m\u001b[0mcopyto\u001b[0m\u001b[0;34m(\u001b[0m\u001b[0ma\u001b[0m\u001b[0;34m,\u001b[0m \u001b[0mfill_value\u001b[0m\u001b[0;34m,\u001b[0m \u001b[0mcasting\u001b[0m\u001b[0;34m=\u001b[0m\u001b[0;34m'unsafe'\u001b[0m\u001b[0;34m)\u001b[0m\u001b[0;34m\u001b[0m\u001b[0;34m\u001b[0m\u001b[0m\n\u001b[1;32m    327\u001b[0m     \u001b[0;32mreturn\u001b[0m \u001b[0ma\u001b[0m\u001b[0;34m\u001b[0m\u001b[0;34m\u001b[0m\u001b[0m\n",
      "\u001b[0;31mMemoryError\u001b[0m: Unable to allocate 10.7 GiB for an array with shape (5305148, 540) and data type int32"
     ]
    }
   ],
   "source": [
    "uli_key2index, uli_index_list, uli_max_len  = gen_pad_seq('u_uli')\n",
    "umi_key2index, umi_index_list, umi_max_len = gen_pad_seq('u_umi')"
   ]
  },
  {
   "cell_type": "code",
   "execution_count": null,
   "metadata": {},
   "outputs": [],
   "source": [
    "cp_location_key2index, cp_location_index_list, cp_location_max_len = gen_pad_seq('cp_location')\n",
    "rs_taginfo_key2index, rs_taginfo_index_list, rs_taginfo_index__max_len = gen_pad_seq('rs_taginfo')"
   ]
  },
  {
   "cell_type": "code",
   "execution_count": null,
   "metadata": {},
   "outputs": [],
   "source": [
    "rs_channel_key2index, rs_channel_index_list, rs_channel_max_len = gen_pad_seq('rs_channel')"
   ]
  },
  {
   "cell_type": "code",
   "execution_count": null,
   "metadata": {},
   "outputs": [],
   "source": [
    "choose_data.info()"
   ]
  },
  {
   "cell_type": "code",
   "execution_count": null,
   "metadata": {},
   "outputs": [],
   "source": [
    "from deepctr.inputs import SparseFeat, DenseFeat, VarLenSparseFeat, get_feature_names\n",
    "from deepctr.models import DeepFM"
   ]
  },
  {
   "cell_type": "code",
   "execution_count": null,
   "metadata": {},
   "outputs": [],
   "source": [
    "fixlen_feature_columns = [SparseFeat(feat, choose_data[feat].nunique(), embedding_dim=8)\n",
    "                              for feat in sparse_features] + [DenseFeat(feat, 1, ) for feat in dense_features]"
   ]
  },
  {
   "cell_type": "code",
   "execution_count": null,
   "metadata": {},
   "outputs": [],
   "source": [
    "fixlen_feature_columns"
   ]
  },
  {
   "cell_type": "code",
   "execution_count": null,
   "metadata": {},
   "outputs": [],
   "source": [
    "varlen_feature_columns = [VarLenSparseFeat(SparseFeat('u_uli', vocabulary_size=len(uli_key2index) + 1, embedding_dim=128), maxlen=uli_max_len, combiner='mean',\n",
    "                                                   weight_name=None), VarLenSparseFeat(SparseFeat('rs_taginfo', vocabulary_size=len(rs_taginfo_key2index) + 1, embedding_dim=128), maxlen=rs_taginfo_index__max_len, combiner='mean',\n",
    "                                                   weight_name=None), VarLenSparseFeat(SparseFeat('rs_channel', vocabulary_size=len(rs_channel_key2index) + 1, embedding_dim=8), maxlen=rs_channel_max_len, combiner='mean',\n",
    "                                                   weight_name=None)]"
   ]
  },
  {
   "cell_type": "code",
   "execution_count": null,
   "metadata": {},
   "outputs": [],
   "source": [
    "varlen_feature_columns"
   ]
  },
  {
   "cell_type": "code",
   "execution_count": null,
   "metadata": {},
   "outputs": [],
   "source": [
    "linear_feature_columns = fixlen_feature_columns + varlen_feature_columns\n",
    "dnn_feature_columns = fixlen_feature_columns + varlen_feature_columns\n",
    "feature_names = get_feature_names(linear_feature_columns + dnn_feature_columns)"
   ]
  },
  {
   "cell_type": "code",
   "execution_count": null,
   "metadata": {},
   "outputs": [],
   "source": [
    "feature_names"
   ]
  },
  {
   "cell_type": "code",
   "execution_count": null,
   "metadata": {},
   "outputs": [],
   "source": [
    "model_input = {name: choose_data[name] for name in feature_names}\n",
    "model_input['u_uli'] = uli_index_list\n",
    "model_input['rs_taginfo'] = rs_taginfo_index_list\n",
    "model_input['rs_channel'] = rs_channel_index_list"
   ]
  },
  {
   "cell_type": "code",
   "execution_count": null,
   "metadata": {},
   "outputs": [],
   "source": [
    "choose_data.dtypes"
   ]
  },
  {
   "cell_type": "code",
   "execution_count": null,
   "metadata": {},
   "outputs": [],
   "source": [
    "feature_names"
   ]
  },
  {
   "cell_type": "code",
   "execution_count": null,
   "metadata": {},
   "outputs": [],
   "source": [
    "model = DeepFM(linear_feature_columns, dnn_feature_columns, task='binary')"
   ]
  },
  {
   "cell_type": "code",
   "execution_count": null,
   "metadata": {},
   "outputs": [],
   "source": [
    "model.compile(\"adam\", \"binary_crossentropy\", metrics=['binary_crossentropy'], )\n",
    "history = model.fit(model_input, choose_data[target].values,\n",
    "                    batch_size=256, epochs=5, verbose=2, validation_split=0.2, )"
   ]
  },
  {
   "cell_type": "code",
   "execution_count": null,
   "metadata": {},
   "outputs": [],
   "source": [
    "pred_ans = model.predict(model_input[-1000:], batch_size=256)"
   ]
  },
  {
   "cell_type": "code",
   "execution_count": null,
   "metadata": {},
   "outputs": [],
   "source": [
    "model_input.keys()"
   ]
  },
  {
   "cell_type": "code",
   "execution_count": null,
   "metadata": {},
   "outputs": [],
   "source": [
    "from sklearn.metrics import log_loss, roc_auc_score\n",
    "from sklearn.metrics import mean_squared_error\n",
    "from sklearn.model_selection import train_test_split"
   ]
  },
  {
   "cell_type": "code",
   "execution_count": null,
   "metadata": {},
   "outputs": [],
   "source": [
    "train, test = train_test_split(choose_data, test_size=0.2)\n",
    "train_model_input = {name:train[name].values for name in feature_names}\n",
    "test_model_input = {name:test[name].values for name in feature_names}"
   ]
  },
  {
   "cell_type": "code",
   "execution_count": null,
   "metadata": {},
   "outputs": [],
   "source": [
    "min(test.index.values.tolist())"
   ]
  },
  {
   "cell_type": "code",
   "execution_count": null,
   "metadata": {},
   "outputs": [],
   "source": [
    "min(train.index.values.tolist())"
   ]
  },
  {
   "cell_type": "code",
   "execution_count": null,
   "metadata": {},
   "outputs": [],
   "source": [
    "uli_item_map = dict()\n",
    "for i in range(len(uli_index_list)):\n",
    "    uli_item_map[i] = uli_index_list[i]"
   ]
  },
  {
   "cell_type": "code",
   "execution_count": null,
   "metadata": {},
   "outputs": [],
   "source": [
    "len(uli_item_map)"
   ]
  },
  {
   "cell_type": "code",
   "execution_count": null,
   "metadata": {},
   "outputs": [],
   "source": [
    "# model_input = {name: choose_data[name] for name in sparse_features}  #\n",
    "# model_input[\"uli\"] = uli_index_list\n",
    "# model_input[\"genres_weight\"] = np.random.randn(data.shape[0], max_len, 1)"
   ]
  },
  {
   "cell_type": "code",
   "execution_count": null,
   "metadata": {},
   "outputs": [],
   "source": [
    "model = DeepFM(linear_feature_columns, dnn_feature_columns, task='binary')"
   ]
  },
  {
   "cell_type": "code",
   "execution_count": null,
   "metadata": {},
   "outputs": [],
   "source": [
    "model.compile(\"adam\", \"binary_crossentropy\",\n",
    "                  metrics=['binary_crossentropy'], )"
   ]
  },
  {
   "cell_type": "code",
   "execution_count": null,
   "metadata": {},
   "outputs": [],
   "source": [
    "history = model.fit(train_model_input, train[target].values,\n",
    "                        batch_size=256, epochs=2, verbose=2, validation_split=0.2, )\n"
   ]
  },
  {
   "cell_type": "code",
   "execution_count": null,
   "metadata": {},
   "outputs": [],
   "source": [
    "pred_ans = model.predict(test_model_input, batch_size=256)\n",
    "print(\"test LogLoss\", round(log_loss(test[target].values, pred_ans), 4))\n",
    "print(\"test AUC\", round(roc_auc_score(test[target].values, pred_ans), 4))"
   ]
  },
  {
   "cell_type": "code",
   "execution_count": 8,
   "metadata": {},
   "outputs": [],
   "source": [
    "import os"
   ]
  },
  {
   "cell_type": "code",
   "execution_count": 9,
   "metadata": {},
   "outputs": [],
   "source": [
    "path = \"/home/recsys/dataset/train/2020-05-01-00\""
   ]
  },
  {
   "cell_type": "code",
   "execution_count": 10,
   "metadata": {},
   "outputs": [],
   "source": [
    "def load_dataset(dir_path):\n",
    "    files = os.listdir(dir_path)\n",
    "    print(dir_path)\n",
    "    dataset = tf.data.TFRecordDataset(filenames = [dir_path + '/' + file for file in files])\n",
    "    return dataset"
   ]
  },
  {
   "cell_type": "code",
   "execution_count": 11,
   "metadata": {},
   "outputs": [
    {
     "name": "stdout",
     "output_type": "stream",
     "text": [
      "/home/recsys/dataset/train/2020-05-01-00/train\n"
     ]
    }
   ],
   "source": [
    "train = load_dataset(path+\"/train\")"
   ]
  },
  {
   "cell_type": "code",
   "execution_count": null,
   "metadata": {},
   "outputs": [],
   "source": []
  },
  {
   "cell_type": "code",
   "execution_count": 75,
   "metadata": {},
   "outputs": [],
   "source": [
    "from tensorflow import feature_column"
   ]
  },
  {
   "cell_type": "code",
   "execution_count": 72,
   "metadata": {},
   "outputs": [],
   "source": [
    "def parse_function(example_proto):\n",
    "    dics = {'action': tf.io.FixedLenFeature(shape=(), dtype=tf.int64, default_value=6),\n",
    "            'uid': tf.io.FixedLenFeature(shape=(), dtype=tf.string, default_value=''),\n",
    "            'item_id': tf.io.FixedLenFeature(shape=(), dtype=tf.string, default_value=''),\n",
    "#             't_scene': tf.io.FixedLenFeature(shape=(), dtype=tf.string, default_value=''),\n",
    "#             't_location': tf.io.VarLenFeature(dtype=tf.string),\n",
    "#             't_action': tf.io.FixedLenFeature(shape=(), dtype=tf.int64, default_value=1),\n",
    "#             't_channel': tf.io.FixedLenFeature(shape=(), dtype=tf.string, default_value=''),\n",
    "#             't_scene': tf.io.FixedLenFeature(shape=(), dtype=tf.string, default_value=''),\n",
    "#             'u_level': tf.io.FixedLenFeature(shape=(), dtype=tf.string, default_value=''),\n",
    "#             'u_uli': tf.io.VarLenFeature(dtype=tf.string),\n",
    "#             'u_umi': tf.io.VarLenFeature(dtype=tf.string),\n",
    "#             'u_usi': tf.io.VarLenFeature(dtype=tf.string),\n",
    "#             'cp_word_count': tf.io.FixedLenFeature(shape=(), dtype=tf.int64, default_value=0),\n",
    "#             'cp_media_level': tf.io.FixedLenFeature(shape=(), dtype=tf.int64, default_value=0),\n",
    "#             'cp_publisher': tf.io.FixedLenFeature(shape=(), dtype=tf.string, default_value=''),\n",
    "#             'cp_is_local_publisher': tf.io.FixedLenFeature(shape=(), dtype=tf.int64, default_value=0),\n",
    "#             'cp_location': tf.io.VarLenFeature(dtype=tf.string),\n",
    "#             'cp_is_local': tf.io.FixedLenFeature(shape=(), dtype=tf.int64, default_value=0),\n",
    "#             'cp_l1_category': tf.io.VarLenFeature(dtype=tf.string),\n",
    "#             'cp_life_hour': tf.io.FixedLenFeature(shape=(), dtype=tf.int64, default_value=72),\n",
    "#             'cp_interests': tf.io.VarLenFeature(dtype=tf.string),\n",
    "#             'rs_gactr': tf.io.FixedLenFeature(shape=(), dtype=tf.float32, default_value=0),\n",
    "#             'rs_channel': tf.io.VarLenFeature(dtype=tf.string),\n",
    "            'rs_taginfo': tf.io.VarLenFeature(dtype=tf.string),\n",
    "           }\n",
    "    # parse all features in a single example according to the dics\n",
    "    parsed_example = tf.io.parse_single_example(example_proto, dics)\n",
    "    target = parsed_example['action']\n",
    "    feature_columns = []\n",
    "    \n",
    "    del parsed_example['action']\n",
    "    return parsed_example, target"
   ]
  },
  {
   "cell_type": "code",
   "execution_count": 73,
   "metadata": {},
   "outputs": [],
   "source": [
    "new_dataset = train.map(parse_function)"
   ]
  },
  {
   "cell_type": "code",
   "execution_count": 77,
   "metadata": {},
   "outputs": [
    {
     "name": "stdout",
     "output_type": "stream",
     "text": [
      "item: SparseTensor(indices=tf.Tensor(\n",
      "[[0]\n",
      " [1]\n",
      " [2]\n",
      " [3]], shape=(4, 1), dtype=int64), values=tf.Tensor(\n",
      "[b'\\xe7\\xbe\\x8e\\xe5\\x9b\\xbd'\n",
      " b'\\xe5\\x9b\\xbd\\xe9\\x99\\x85\\xe6\\x97\\xb6\\xe6\\x94\\xbf'\n",
      " b'\\xe4\\xbf\\x84\\xe7\\xbd\\x97\\xe6\\x96\\xaf' b'\\xe5\\x9b\\xbd\\xe9\\x99\\x85'], shape=(4,), dtype=string), dense_shape=tf.Tensor([4], shape=(1,), dtype=int64))\n",
      "target tf.Tensor(0, shape=(), dtype=int64)\n"
     ]
    }
   ],
   "source": [
    "for item, target in new_dataset.take(1):\n",
    "    print('item:', item['rs_taginfo'])\n",
    "    print('target', target)"
   ]
  },
  {
   "cell_type": "code",
   "execution_count": 76,
   "metadata": {},
   "outputs": [
    {
     "data": {
      "text/plain": [
       "<MapDataset shapes: ({rs_taginfo: (None,), item_id: (), uid: ()}, ()), types: ({rs_taginfo: tf.string, item_id: tf.string, uid: tf.string}, tf.int64)>"
      ]
     },
     "execution_count": 76,
     "metadata": {},
     "output_type": "execute_result"
    }
   ],
   "source": [
    "categorical_columns = ['sex', 'n_siblings_spouses', 'parch', 'class', 'deck', 'embark_town', 'alone']\n",
    "numeric_columns = ['age', 'fare']"
   ]
  },
  {
   "cell_type": "code",
   "execution_count": null,
   "metadata": {},
   "outputs": [],
   "source": []
  }
 ],
 "metadata": {
  "kernelspec": {
   "display_name": "Python 3",
   "language": "python",
   "name": "python3"
  },
  "language_info": {
   "codemirror_mode": {
    "name": "ipython",
    "version": 3
   },
   "file_extension": ".py",
   "mimetype": "text/x-python",
   "name": "python",
   "nbconvert_exporter": "python",
   "pygments_lexer": "ipython3",
   "version": "3.6.10"
  }
 },
 "nbformat": 4,
 "nbformat_minor": 4
}
